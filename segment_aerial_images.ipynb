version https://git-lfs.github.com/spec/v1
oid sha256:ae7dbee881a7b22866edb85e639e71ead36f8c6bc97aec9a900ffa19eb8fe784
size 1147443
